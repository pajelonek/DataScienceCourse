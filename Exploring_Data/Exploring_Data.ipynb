{
 "cells": [
  {
   "cell_type": "markdown",
   "source": [
    "## Data Science Course\n",
    "### Topic: Exploring data \n",
    "#### Author: Pawel Jelonek 2019"
   ],
   "metadata": {
    "collapsed": false,
    "pycharm": {
     "name": "#%% md\n"
    }
   }
  },
  {
   "cell_type": "markdown",
   "metadata": {},
   "source": [
    "When exploring a large set of documents -- such as Wikipedia, news articles, StackOverflow, etc. -- it can be useful to get a list of related material. To find relevant documents you typically\n",
    "* Decide on a notion of similarity\n",
    "* Find the documents that are most similar \n",
    "\n",
    "In the assignment you will\n",
    "* Gain intuition for different notions of similarity and practice finding similar documents. \n",
    "* Explore the tradeoffs with representing documents using raw word counts and TF-IDF\n",
    "* Explore the behavior of different distance metrics by looking at the Wikipedia pages most similar to President Obama's page."
   ]
  },
  {
   "cell_type": "code",
   "execution_count": null,
   "metadata": {
    "jupyter": {
     "outputs_hidden": false
    },
    "pycharm": {
     "is_executing": true
    }
   },
   "outputs": [],
   "source": [
    "import matplotlib.pyplot as plt\n",
    "import numpy as np\n",
    "import pandas as pd\n",
    "from sklearn.feature_extraction.text import CountVectorizer\n",
    "from sklearn.neighbors import NearestNeighbors\n",
    "from sklearn.metrics import pairwise_distances\n",
    "%matplotlib inline"
   ]
  },
  {
   "cell_type": "markdown",
   "metadata": {},
   "source": [
    "## Load Wikipedia dataset"
   ]
  },
  {
   "cell_type": "markdown",
   "metadata": {},
   "source": [
    "We will be using the dataset of abridged Wikipedia pages. Each element of the dataset consists of a link to the wikipedia article, the name of the person, and the text of the article (in lowercase).  "
   ]
  },
  {
   "cell_type": "code",
   "execution_count": 2,
   "metadata": {
    "jupyter": {
     "outputs_hidden": false
    },
    "pycharm": {
     "is_executing": false
    }
   },
   "outputs": [
    {
     "data": {
      "text/plain": "                                                 URI                 name  \\\n0        <http://dbpedia.org/resource/Digby_Morrell>        Digby Morrell   \n1       <http://dbpedia.org/resource/Alfred_J._Lewy>       Alfred J. Lewy   \n2        <http://dbpedia.org/resource/Harpdog_Brown>        Harpdog Brown   \n3  <http://dbpedia.org/resource/Franz_Rottensteiner>  Franz Rottensteiner   \n4               <http://dbpedia.org/resource/G-Enka>               G-Enka   \n\n                                                text  \n0  digby morrell born 10 october 1979 is a former...  \n1  alfred j lewy aka sandy lewy graduated from un...  \n2  harpdog brown is a singer and harmonica player...  \n3  franz rottensteiner born in waidmannsfeld lowe...  \n4  henry krvits born 30 december 1974 in tallinn ...  ",
      "text/html": "<div>\n<style scoped>\n    .dataframe tbody tr th:only-of-type {\n        vertical-align: middle;\n    }\n\n    .dataframe tbody tr th {\n        vertical-align: top;\n    }\n\n    .dataframe thead th {\n        text-align: right;\n    }\n</style>\n<table border=\"1\" class=\"dataframe\">\n  <thead>\n    <tr style=\"text-align: right;\">\n      <th></th>\n      <th>URI</th>\n      <th>name</th>\n      <th>text</th>\n    </tr>\n  </thead>\n  <tbody>\n    <tr>\n      <td>0</td>\n      <td>&lt;http://dbpedia.org/resource/Digby_Morrell&gt;</td>\n      <td>Digby Morrell</td>\n      <td>digby morrell born 10 october 1979 is a former...</td>\n    </tr>\n    <tr>\n      <td>1</td>\n      <td>&lt;http://dbpedia.org/resource/Alfred_J._Lewy&gt;</td>\n      <td>Alfred J. Lewy</td>\n      <td>alfred j lewy aka sandy lewy graduated from un...</td>\n    </tr>\n    <tr>\n      <td>2</td>\n      <td>&lt;http://dbpedia.org/resource/Harpdog_Brown&gt;</td>\n      <td>Harpdog Brown</td>\n      <td>harpdog brown is a singer and harmonica player...</td>\n    </tr>\n    <tr>\n      <td>3</td>\n      <td>&lt;http://dbpedia.org/resource/Franz_Rottensteiner&gt;</td>\n      <td>Franz Rottensteiner</td>\n      <td>franz rottensteiner born in waidmannsfeld lowe...</td>\n    </tr>\n    <tr>\n      <td>4</td>\n      <td>&lt;http://dbpedia.org/resource/G-Enka&gt;</td>\n      <td>G-Enka</td>\n      <td>henry krvits born 30 december 1974 in tallinn ...</td>\n    </tr>\n  </tbody>\n</table>\n</div>"
     },
     "metadata": {},
     "output_type": "execute_result",
     "execution_count": 2
    }
   ],
   "source": [
    "wiki = pd.read_csv('people_wiki.csv')\n",
    "wiki.head()"
   ]
  },
  {
   "cell_type": "markdown",
   "metadata": {},
   "source": [
    "If you want to check whether the text on the webpage agrees with the one here, you can display it with the following code:"
   ]
  },
  {
   "cell_type": "markdown",
   "metadata": {},
   "source": [
    "## Ex. 1: Extract word count vectors"
   ]
  },
  {
   "cell_type": "markdown",
   "metadata": {},
   "source": [
    "As we have seen in Assignment 4, we can extract word count vectors using `CountVectorizer` function.\n",
    "- make sure you include words of unit length by using the parameter: `token_pattern=r\"(?u)\\b\\w+\\b\"`\n",
    "- do not use any stopwords\n",
    "- take 10000 most frequent words in the corpus\n",
    "- explicitly take all the words independent of in how many documents they occur\n",
    "- obtain the matrix of word counts"
   ]
  },
  {
   "cell_type": "code",
   "execution_count": 3,
   "metadata": {
    "pycharm": {
     "is_executing": false,
     "name": "#%%\n"
    }
   },
   "outputs": [],
   "source": [
    "vectorizer = CountVectorizer(token_pattern=r\"(?u)\\b\\w+\\b\",stop_words=None,max_features=10000)\n",
    "wiki_text_vectorized = vectorizer.fit_transform(wiki['text'])\n",
    "wiki_labels = vectorizer.get_feature_names()"
   ]
  },
  {
   "cell_type": "markdown",
   "metadata": {},
   "source": [
    "## Ex. 2: Find nearest neighbors"
   ]
  },
  {
   "cell_type": "markdown",
   "metadata": {},
   "source": [
    "**a)** Start by finding the nearest neighbors of the Barack Obama page using the above word count matrix to represent the articles and **Euclidean** distance to measure distance.\n",
    "Save the distances in `wiki['BO-eucl']` and look at the top 10 nearest neighbors."
   ]
  },
  {
   "cell_type": "code",
   "execution_count": 6,
   "metadata": {
    "pycharm": {
     "is_executing": false
    }
   },
   "outputs": [],
   "source": [
    "nbrs = NearestNeighbors(n_neighbors=3, algorithm='brute',metric='euclidean').fit(wiki_text_vectorized)"
   ]
  },
  {
   "cell_type": "code",
   "execution_count": null,
   "metadata": {
    "pycharm": {
     "is_executing": true,
     "name": "#%%\n"
    }
   },
   "outputs": [],
   "source": [
    "BarackObamaPageIndex = wiki.loc[wiki['name'] == \"Barack Obama\"].index[0]\n",
    "distances, indices = nbrs.kneighbors(wiki_text_vectorized)"
   ]
  },
  {
   "cell_type": "code",
   "execution_count": null,
   "metadata": {
    "pycharm": {
     "is_executing": true,
     "name": "#%%\n"
    }
   },
   "outputs": [],
   "source": [
    "EUK = [pairwise_distances(wiki_text_vectorized[BarackObamaPageIndex], element)[0][0] for element in wiki_text_vectorized]"
   ]
  },
  {
   "cell_type": "code",
   "execution_count": 7,
   "metadata": {
    "pycharm": {
     "is_executing": false,
     "name": "#%%\n"
    }
   },
   "outputs": [
    {
     "data": {
      "text/html": [
       "<div>\n",
       "<style scoped>\n",
       "    .dataframe tbody tr th:only-of-type {\n",
       "        vertical-align: middle;\n",
       "    }\n",
       "\n",
       "    .dataframe tbody tr th {\n",
       "        vertical-align: top;\n",
       "    }\n",
       "\n",
       "    .dataframe thead th {\n",
       "        text-align: right;\n",
       "    }\n",
       "</style>\n",
       "<table border=\"1\" class=\"dataframe\">\n",
       "  <thead>\n",
       "    <tr style=\"text-align: right;\">\n",
       "      <th></th>\n",
       "      <th>URI</th>\n",
       "      <th>name</th>\n",
       "      <th>text</th>\n",
       "      <th>BO-eucl</th>\n",
       "    </tr>\n",
       "  </thead>\n",
       "  <tbody>\n",
       "    <tr>\n",
       "      <td>35817</td>\n",
       "      <td>&lt;http://dbpedia.org/resource/Barack_Obama&gt;</td>\n",
       "      <td>Barack Obama</td>\n",
       "      <td>barack hussein obama ii brk husen bm born augu...</td>\n",
       "      <td>0.000000</td>\n",
       "    </tr>\n",
       "    <tr>\n",
       "      <td>24478</td>\n",
       "      <td>&lt;http://dbpedia.org/resource/Joe_Biden&gt;</td>\n",
       "      <td>Joe Biden</td>\n",
       "      <td>joseph robinette joe biden jr dosf rbnt badn b...</td>\n",
       "      <td>31.336879</td>\n",
       "    </tr>\n",
       "    <tr>\n",
       "      <td>28447</td>\n",
       "      <td>&lt;http://dbpedia.org/resource/George_W._Bush&gt;</td>\n",
       "      <td>George W. Bush</td>\n",
       "      <td>george walker bush born july 6 1946 is an amer...</td>\n",
       "      <td>33.645208</td>\n",
       "    </tr>\n",
       "    <tr>\n",
       "      <td>48202</td>\n",
       "      <td>&lt;http://dbpedia.org/resource/Tony_Vaccaro&gt;</td>\n",
       "      <td>Tony Vaccaro</td>\n",
       "      <td>michelantonio celestino onofrio vaccaro born d...</td>\n",
       "      <td>33.734256</td>\n",
       "    </tr>\n",
       "    <tr>\n",
       "      <td>14754</td>\n",
       "      <td>&lt;http://dbpedia.org/resource/Mitt_Romney&gt;</td>\n",
       "      <td>Mitt Romney</td>\n",
       "      <td>willard mitt romney born march 12 1947 is an a...</td>\n",
       "      <td>34.351128</td>\n",
       "    </tr>\n",
       "    <tr>\n",
       "      <td>31423</td>\n",
       "      <td>&lt;http://dbpedia.org/resource/Walter_Mondale&gt;</td>\n",
       "      <td>Walter Mondale</td>\n",
       "      <td>walter frederick fritz mondale born january 5 ...</td>\n",
       "      <td>34.423829</td>\n",
       "    </tr>\n",
       "    <tr>\n",
       "      <td>36364</td>\n",
       "      <td>&lt;http://dbpedia.org/resource/Don_Bonker&gt;</td>\n",
       "      <td>Don Bonker</td>\n",
       "      <td>don leroy bonker born march 7 1937 in denver c...</td>\n",
       "      <td>34.597688</td>\n",
       "    </tr>\n",
       "    <tr>\n",
       "      <td>13229</td>\n",
       "      <td>&lt;http://dbpedia.org/resource/Francisco_Barrio&gt;</td>\n",
       "      <td>Francisco Barrio</td>\n",
       "      <td>francisco javier barrio terrazas born november...</td>\n",
       "      <td>34.669872</td>\n",
       "    </tr>\n",
       "    <tr>\n",
       "      <td>35357</td>\n",
       "      <td>&lt;http://dbpedia.org/resource/Lawrence_Summers&gt;</td>\n",
       "      <td>Lawrence Summers</td>\n",
       "      <td>lawrence henry larry summers born november 30 ...</td>\n",
       "      <td>35.383612</td>\n",
       "    </tr>\n",
       "    <tr>\n",
       "      <td>25258</td>\n",
       "      <td>&lt;http://dbpedia.org/resource/Marc_Ravalomanana&gt;</td>\n",
       "      <td>Marc Ravalomanana</td>\n",
       "      <td>marc ravalomanana malagasy ravalumanan born 12...</td>\n",
       "      <td>35.440090</td>\n",
       "    </tr>\n",
       "  </tbody>\n",
       "</table>\n",
       "</div>"
      ],
      "text/plain": [
       "                                                   URI               name  \\\n",
       "35817       <http://dbpedia.org/resource/Barack_Obama>       Barack Obama   \n",
       "24478          <http://dbpedia.org/resource/Joe_Biden>          Joe Biden   \n",
       "28447     <http://dbpedia.org/resource/George_W._Bush>     George W. Bush   \n",
       "48202       <http://dbpedia.org/resource/Tony_Vaccaro>       Tony Vaccaro   \n",
       "14754        <http://dbpedia.org/resource/Mitt_Romney>        Mitt Romney   \n",
       "31423     <http://dbpedia.org/resource/Walter_Mondale>     Walter Mondale   \n",
       "36364         <http://dbpedia.org/resource/Don_Bonker>         Don Bonker   \n",
       "13229   <http://dbpedia.org/resource/Francisco_Barrio>   Francisco Barrio   \n",
       "35357   <http://dbpedia.org/resource/Lawrence_Summers>   Lawrence Summers   \n",
       "25258  <http://dbpedia.org/resource/Marc_Ravalomanana>  Marc Ravalomanana   \n",
       "\n",
       "                                                    text    BO-eucl  \n",
       "35817  barack hussein obama ii brk husen bm born augu...   0.000000  \n",
       "24478  joseph robinette joe biden jr dosf rbnt badn b...  31.336879  \n",
       "28447  george walker bush born july 6 1946 is an amer...  33.645208  \n",
       "48202  michelantonio celestino onofrio vaccaro born d...  33.734256  \n",
       "14754  willard mitt romney born march 12 1947 is an a...  34.351128  \n",
       "31423  walter frederick fritz mondale born january 5 ...  34.423829  \n",
       "36364  don leroy bonker born march 7 1937 in denver c...  34.597688  \n",
       "13229  francisco javier barrio terrazas born november...  34.669872  \n",
       "35357  lawrence henry larry summers born november 30 ...  35.383612  \n",
       "25258  marc ravalomanana malagasy ravalumanan born 12...  35.440090  "
      ]
     },
     "execution_count": 7,
     "metadata": {},
     "output_type": "execute_result"
    }
   ],
   "source": [
    "wiki['BO-eucl'] = EUK\n",
    "wiki.sort_values(by=['BO-eucl'])[:10]"
   ]
  },
  {
   "cell_type": "code",
   "execution_count": 8,
   "metadata": {
    "pycharm": {
     "is_executing": false,
     "name": "#%%\n"
    }
   },
   "outputs": [
    {
     "name": "stdout",
     "output_type": "stream",
     "text": [
      "31.336879231984796\n",
      "33.645207682521445\n",
      "30.919249667480614\n"
     ]
    }
   ],
   "source": [
    "BarackObamaPageIndex = wiki.loc[wiki['name'] == \"Barack Obama\"].index[0]\n",
    "JoeBidenPageIndex = wiki.loc[wiki['name'] == \"Joe Biden\"].index[0]\n",
    "GeorgeBushaPageIndex = wiki.loc[wiki['name'] == \"George W. Bush\"].index[0]\n",
    "\n",
    "BarackJoePair = pairwise_distances(wiki_text_vectorized[BarackObamaPageIndex], wiki_text_vectorized[JoeBidenPageIndex])[0][0]\n",
    "BarackGeorgePair = pairwise_distances(wiki_text_vectorized[BarackObamaPageIndex], wiki_text_vectorized[GeorgeBushaPageIndex])[0][0]\n",
    "GeorgeJoePair = pairwise_distances(wiki_text_vectorized[GeorgeBushaPageIndex], wiki_text_vectorized[JoeBidenPageIndex])[0][0]\n",
    "print(BarackJoePair)\n",
    "print(BarackGeorgePair)\n",
    "print(GeorgeJoePair)"
   ]
  },
  {
   "cell_type": "markdown",
   "metadata": {},
   "source": [
    "**b)** Measure the pairwise distance between the Wikipedia pages of Barack Obama, George W. Bush, and Joe Biden. Which of the three pairs has the smallest distance?"
   ]
  },
  {
   "cell_type": "markdown",
   "metadata": {},
   "source": [
    "All of the 10 people from **a)** are politicians, but about half of them have rather tenuous connections with Obama, other than the fact that they are politicians, e.g.,\n",
    "\n",
    "* Francisco Barrio is a Mexican politician, and a former governor of Chihuahua.\n",
    "* Walter Mondale and Don Bonker are Democrats who made their career in late 1970s.\n",
    "\n",
    "Nearest neighbors with raw word counts got some things right, showing all politicians in the query result, but missed finer and important details."
   ]
  },
  {
   "cell_type": "markdown",
   "metadata": {},
   "source": [
    "**c)** Let's find out why Francisco Barrio was considered a close neighbor of Obama.\n",
    "To do this, look at the most frequently used words in each of Barack Obama and Francisco Barrio's pages."
   ]
  },
  {
   "cell_type": "code",
   "execution_count": 9,
   "metadata": {
    "pycharm": {
     "is_executing": false
    }
   },
   "outputs": [],
   "source": [
    "def top_words(name):\n",
    "    word_counter = pd.DataFrame(data={\"words_count\":wiki_text_vectorized[wiki.loc[wiki['name'] == name].index[0]].toarray()[0]}, index=wiki_labels)\n",
    "    return word_counter.sort_values(by=['words_count'],ascending=False)"
   ]
  },
  {
   "cell_type": "code",
   "execution_count": 10,
   "metadata": {
    "jupyter": {
     "outputs_hidden": false
    },
    "pycharm": {
     "is_executing": false
    }
   },
   "outputs": [
    {
     "data": {
      "text/html": [
       "<div>\n",
       "<style scoped>\n",
       "    .dataframe tbody tr th:only-of-type {\n",
       "        vertical-align: middle;\n",
       "    }\n",
       "\n",
       "    .dataframe tbody tr th {\n",
       "        vertical-align: top;\n",
       "    }\n",
       "\n",
       "    .dataframe thead th {\n",
       "        text-align: right;\n",
       "    }\n",
       "</style>\n",
       "<table border=\"1\" class=\"dataframe\">\n",
       "  <thead>\n",
       "    <tr style=\"text-align: right;\">\n",
       "      <th></th>\n",
       "      <th>Obama counts</th>\n",
       "    </tr>\n",
       "  </thead>\n",
       "  <tbody>\n",
       "    <tr>\n",
       "      <td>the</td>\n",
       "      <td>40</td>\n",
       "    </tr>\n",
       "    <tr>\n",
       "      <td>in</td>\n",
       "      <td>30</td>\n",
       "    </tr>\n",
       "    <tr>\n",
       "      <td>and</td>\n",
       "      <td>21</td>\n",
       "    </tr>\n",
       "    <tr>\n",
       "      <td>of</td>\n",
       "      <td>18</td>\n",
       "    </tr>\n",
       "    <tr>\n",
       "      <td>to</td>\n",
       "      <td>14</td>\n",
       "    </tr>\n",
       "  </tbody>\n",
       "</table>\n",
       "</div>"
      ],
      "text/plain": [
       "     Obama counts\n",
       "the            40\n",
       "in             30\n",
       "and            21\n",
       "of             18\n",
       "to             14"
      ]
     },
     "execution_count": 10,
     "metadata": {},
     "output_type": "execute_result"
    }
   ],
   "source": [
    "obama_words = top_words('Barack Obama')\n",
    "obama_words.columns = ['Obama counts']\n",
    "obama_words.head()"
   ]
  },
  {
   "cell_type": "code",
   "execution_count": 11,
   "metadata": {
    "pycharm": {
     "is_executing": false
    }
   },
   "outputs": [
    {
     "data": {
      "text/html": [
       "<div>\n",
       "<style scoped>\n",
       "    .dataframe tbody tr th:only-of-type {\n",
       "        vertical-align: middle;\n",
       "    }\n",
       "\n",
       "    .dataframe tbody tr th {\n",
       "        vertical-align: top;\n",
       "    }\n",
       "\n",
       "    .dataframe thead th {\n",
       "        text-align: right;\n",
       "    }\n",
       "</style>\n",
       "<table border=\"1\" class=\"dataframe\">\n",
       "  <thead>\n",
       "    <tr style=\"text-align: right;\">\n",
       "      <th></th>\n",
       "      <th>Bario counts</th>\n",
       "    </tr>\n",
       "  </thead>\n",
       "  <tbody>\n",
       "    <tr>\n",
       "      <td>the</td>\n",
       "      <td>36</td>\n",
       "    </tr>\n",
       "    <tr>\n",
       "      <td>of</td>\n",
       "      <td>24</td>\n",
       "    </tr>\n",
       "    <tr>\n",
       "      <td>and</td>\n",
       "      <td>18</td>\n",
       "    </tr>\n",
       "    <tr>\n",
       "      <td>in</td>\n",
       "      <td>17</td>\n",
       "    </tr>\n",
       "    <tr>\n",
       "      <td>he</td>\n",
       "      <td>10</td>\n",
       "    </tr>\n",
       "  </tbody>\n",
       "</table>\n",
       "</div>"
      ],
      "text/plain": [
       "     Bario counts\n",
       "the            36\n",
       "of             24\n",
       "and            18\n",
       "in             17\n",
       "he             10"
      ]
     },
     "execution_count": 11,
     "metadata": {},
     "output_type": "execute_result"
    }
   ],
   "source": [
    "barrio_words = top_words('Francisco Barrio')\n",
    "barrio_words.columns = ['Bario counts']\n",
    "barrio_words.head()"
   ]
  },
  {
   "cell_type": "markdown",
   "metadata": {},
   "source": [
    "**d)** Extract the list of most frequent **common** words that appear in both Obama's and Barrio's documents and display the five words that appear most often in Barrio's article.\n",
    "\n",
    "Use a dataframe operation known as **join**. The **join** operation is very useful when it comes to playing around with data: it lets you combine the content of two tables using a shared column (in this case, the index column of words). See [the documentation](https://pandas.pydata.org/pandas-docs/stable/reference/api/pandas.DataFrame.join.html) for more details."
   ]
  },
  {
   "cell_type": "code",
   "execution_count": 12,
   "metadata": {
    "pycharm": {
     "is_executing": false,
     "name": "#%%\n"
    }
   },
   "outputs": [
    {
     "data": {
      "text/html": [
       "<div>\n",
       "<style scoped>\n",
       "    .dataframe tbody tr th:only-of-type {\n",
       "        vertical-align: middle;\n",
       "    }\n",
       "\n",
       "    .dataframe tbody tr th {\n",
       "        vertical-align: top;\n",
       "    }\n",
       "\n",
       "    .dataframe thead th {\n",
       "        text-align: right;\n",
       "    }\n",
       "</style>\n",
       "<table border=\"1\" class=\"dataframe\">\n",
       "  <thead>\n",
       "    <tr style=\"text-align: right;\">\n",
       "      <th></th>\n",
       "      <th>Obama counts</th>\n",
       "      <th>Bario counts</th>\n",
       "    </tr>\n",
       "  </thead>\n",
       "  <tbody>\n",
       "    <tr>\n",
       "      <td>the</td>\n",
       "      <td>40</td>\n",
       "      <td>36</td>\n",
       "    </tr>\n",
       "    <tr>\n",
       "      <td>of</td>\n",
       "      <td>18</td>\n",
       "      <td>24</td>\n",
       "    </tr>\n",
       "    <tr>\n",
       "      <td>and</td>\n",
       "      <td>21</td>\n",
       "      <td>18</td>\n",
       "    </tr>\n",
       "    <tr>\n",
       "      <td>in</td>\n",
       "      <td>30</td>\n",
       "      <td>17</td>\n",
       "    </tr>\n",
       "    <tr>\n",
       "      <td>he</td>\n",
       "      <td>7</td>\n",
       "      <td>10</td>\n",
       "    </tr>\n",
       "  </tbody>\n",
       "</table>\n",
       "</div>"
      ],
      "text/plain": [
       "     Obama counts  Bario counts\n",
       "the            40            36\n",
       "of             18            24\n",
       "and            21            18\n",
       "in             30            17\n",
       "he              7            10"
      ]
     },
     "execution_count": 12,
     "metadata": {},
     "output_type": "execute_result"
    }
   ],
   "source": [
    "common_words = obama_words.join(barrio_words)\n",
    "common_words.sort_values(by='Bario counts', ascending=False).head(5)"
   ]
  },
  {
   "cell_type": "markdown",
   "metadata": {},
   "source": [
    "Collect all words that appear both in Barack Obama and George W. Bush pages.  Out of those words, find the 10 words that show up most often in Obama's page. "
   ]
  },
  {
   "cell_type": "code",
   "execution_count": 13,
   "metadata": {
    "pycharm": {
     "is_executing": false,
     "name": "#%%\n"
    }
   },
   "outputs": [
    {
     "data": {
      "text/html": [
       "<div>\n",
       "<style scoped>\n",
       "    .dataframe tbody tr th:only-of-type {\n",
       "        vertical-align: middle;\n",
       "    }\n",
       "\n",
       "    .dataframe tbody tr th {\n",
       "        vertical-align: top;\n",
       "    }\n",
       "\n",
       "    .dataframe thead th {\n",
       "        text-align: right;\n",
       "    }\n",
       "</style>\n",
       "<table border=\"1\" class=\"dataframe\">\n",
       "  <thead>\n",
       "    <tr style=\"text-align: right;\">\n",
       "      <th></th>\n",
       "      <th>Obama counts</th>\n",
       "      <th>Bush counts</th>\n",
       "    </tr>\n",
       "  </thead>\n",
       "  <tbody>\n",
       "    <tr>\n",
       "      <td>the</td>\n",
       "      <td>40</td>\n",
       "      <td>39</td>\n",
       "    </tr>\n",
       "    <tr>\n",
       "      <td>in</td>\n",
       "      <td>30</td>\n",
       "      <td>22</td>\n",
       "    </tr>\n",
       "    <tr>\n",
       "      <td>and</td>\n",
       "      <td>21</td>\n",
       "      <td>14</td>\n",
       "    </tr>\n",
       "    <tr>\n",
       "      <td>of</td>\n",
       "      <td>18</td>\n",
       "      <td>14</td>\n",
       "    </tr>\n",
       "    <tr>\n",
       "      <td>to</td>\n",
       "      <td>14</td>\n",
       "      <td>11</td>\n",
       "    </tr>\n",
       "    <tr>\n",
       "      <td>his</td>\n",
       "      <td>11</td>\n",
       "      <td>6</td>\n",
       "    </tr>\n",
       "    <tr>\n",
       "      <td>act</td>\n",
       "      <td>8</td>\n",
       "      <td>3</td>\n",
       "    </tr>\n",
       "    <tr>\n",
       "      <td>he</td>\n",
       "      <td>7</td>\n",
       "      <td>8</td>\n",
       "    </tr>\n",
       "    <tr>\n",
       "      <td>a</td>\n",
       "      <td>7</td>\n",
       "      <td>6</td>\n",
       "    </tr>\n",
       "    <tr>\n",
       "      <td>as</td>\n",
       "      <td>6</td>\n",
       "      <td>6</td>\n",
       "    </tr>\n",
       "  </tbody>\n",
       "</table>\n",
       "</div>"
      ],
      "text/plain": [
       "     Obama counts  Bush counts\n",
       "the            40           39\n",
       "in             30           22\n",
       "and            21           14\n",
       "of             18           14\n",
       "to             14           11\n",
       "his            11            6\n",
       "act             8            3\n",
       "he              7            8\n",
       "a               7            6\n",
       "as              6            6"
      ]
     },
     "execution_count": 13,
     "metadata": {},
     "output_type": "execute_result"
    }
   ],
   "source": [
    "bush_words = top_words('George W. Bush')\n",
    "bush_words.columns = ['Bush counts']\n",
    "\n",
    "\n",
    "common_words2 = obama_words.join(bush_words)\n",
    "common_words2.sort_values(by='Obama counts', ascending=False).head(5)\n",
    "common_words2 = common_words2.drop(common_words2[ common_words2['Bush counts'] == 0].index)\n",
    "common_words2 = common_words2.drop(common_words2[ common_words2['Obama counts'] == 0].index)\n",
    "common_words2.head(10)"
   ]
  },
  {
   "cell_type": "markdown",
   "metadata": {},
   "source": [
    "**Note.** Even though common words are swamping out important subtle differences, commonalities in rarer political words still matter on the margin. This is why politicians are being listed in the query result instead of musicians, for example. In the next subsection, we will introduce a different metric that will place greater emphasis on those rarer words."
   ]
  },
  {
   "cell_type": "markdown",
   "metadata": {},
   "source": [
    "**e)** Among the words that appear in both Barack Obama and Francisco Barrio, take the 15 that appear most frequently in Obama. How many of the articles in the Wikipedia dataset contain all of those 15 words? Which are they?"
   ]
  },
  {
   "cell_type": "code",
   "execution_count": 14,
   "metadata": {
    "pycharm": {
     "is_executing": false,
     "name": "#%%\n"
    }
   },
   "outputs": [],
   "source": [
    "common_words2 = obama_words.join(barrio_words)\n",
    "common_words2.sort_values(by='Obama counts', ascending=False).head(15)\n",
    "common_words2 = common_words2.drop(common_words2[ common_words2['Bario counts'] == 0].index)\n",
    "common_words2 = common_words2.drop(common_words2[ common_words2['Obama counts'] == 0].index)\n",
    "list_of_wanted_words = common_words2.head(15).index"
   ]
  },
  {
   "cell_type": "code",
   "execution_count": 15,
   "metadata": {
    "pycharm": {
     "is_executing": false,
     "name": "#%%\n"
    }
   },
   "outputs": [
    {
     "name": "stdout",
     "output_type": "stream",
     "text": [
      "Donald Fowler\n",
      "Chris Redfern\n",
      "James Bilbray\n",
      "Paul Kagame\n",
      "Bernard Kenny\n",
      "Paul Sarlo\n",
      "Gy%C3%B6rgy Sur%C3%A1nyi\n",
      "Morley Winograd\n",
      "David Ibarra Mu%C3%B1oz\n",
      "Francisco Barrio\n",
      "Charles Taylor (Liberian politician)\n",
      "Jesse Ventura\n",
      "Joe Biden\n",
      "George W. Bush\n",
      "Arturo Vallarino\n",
      "John O. Agwunobi\n",
      "Jimmy Carter\n",
      "Barack Obama\n",
      "Bill Clinton\n",
      "John Garamendi\n",
      "Helmut Anheier\n",
      "Edward Rowny\n",
      "Henry Sanders (Alabama politician)\n",
      "Saber Hossain Chowdhury\n",
      "Russell Trood\n",
      "Robert Lewis Morgan\n",
      "Ewart Brown\n",
      "Chuck Wolfe (executive)\n",
      "Lokman Singh Karki\n",
      "Hu Jintao\n",
      "30\n"
     ]
    }
   ],
   "source": [
    "word_to_ind={v: i for i, v in enumerate(vectorizer.get_feature_names())} # a \n",
    "def number_of_words_in_article(name):\n",
    "    article_vectorized = wiki_text_vectorized[wiki.loc[wiki['name'] == name].index].toarray()[0]\n",
    "    sum_of_words = 0\n",
    "    for word in list_of_wanted_words:\n",
    "        index_of_word = word_to_ind[word]\n",
    "        word_count_in_page = article_vectorized[index_of_word]\n",
    "        if word_count_in_page > 0:\n",
    "            sum_of_words = sum_of_words + 1\n",
    "    return sum_of_words\n",
    "\n",
    "number_of_articles = 0\n",
    "for article_name in wiki['name']:\n",
    "    if number_of_words_in_article(article_name) >= 15:\n",
    "        number_of_articles = number_of_articles + 1\n",
    "        print(article_name)\n",
    "print(number_of_articles)        "
   ]
  },
  {
   "cell_type": "markdown",
   "metadata": {},
   "source": [
    "## Ex. 3: TF-IDF to the rescue"
   ]
  },
  {
   "cell_type": "markdown",
   "metadata": {},
   "source": [
    "Much of the perceived commonalities between Obama and Barrio were due to occurrences of extremely frequent words, such as \"the\", \"and\", and \"his\". So nearest neighbors is recommending plausible results sometimes for the wrong reasons.\n",
    "\n",
    "To retrieve articles that are more relevant, we should focus more on rare words that don't happen in every article. **TF-IDF** (term frequencyâinverse document frequency) is a feature representation that penalizes words that are too common."
   ]
  },
  {
   "cell_type": "markdown",
   "metadata": {},
   "source": [
    "**a)** Repeat the search for the 10 nearest neighbors of Barack Obama with Euclidean distance of TF-IDF. This time do not limit to only 10000 most frequent words, but take all of them."
   ]
  },
  {
   "cell_type": "code",
   "execution_count": 16,
   "metadata": {
    "pycharm": {
     "is_executing": false,
     "name": "#%%\n"
    }
   },
   "outputs": [],
   "source": [
    "from sklearn.feature_extraction.text import TfidfTransformer\n",
    "vectorizer = CountVectorizer(token_pattern=r\"(?u)\\b\\w+\\b\")\n",
    "WCmatrix = vectorizer.fit_transform(wiki['text'])\n",
    "wiki_labels_tfdf = vectorizer.get_feature_names()\n",
    "tfidf=TfidfTransformer(smooth_idf=False, norm=None)\n",
    "TFIDFmatrix = tfidf.fit_transform(WCmatrix)"
   ]
  },
  {
   "cell_type": "code",
   "execution_count": 17,
   "metadata": {
    "pycharm": {
     "is_executing": false,
     "name": "#%%\n"
    }
   },
   "outputs": [],
   "source": [
    "dist = pairwise_distances(TFIDFmatrix, TFIDFmatrix[BarackObamaPageIndex])\n",
    "wiki['BO-eucl-TF-IDF'] = dist"
   ]
  },
  {
   "cell_type": "code",
   "execution_count": 18,
   "metadata": {
    "pycharm": {
     "is_executing": false,
     "name": "#%%\n"
    }
   },
   "outputs": [
    {
     "data": {
      "text/html": [
       "<div>\n",
       "<style scoped>\n",
       "    .dataframe tbody tr th:only-of-type {\n",
       "        vertical-align: middle;\n",
       "    }\n",
       "\n",
       "    .dataframe tbody tr th {\n",
       "        vertical-align: top;\n",
       "    }\n",
       "\n",
       "    .dataframe thead th {\n",
       "        text-align: right;\n",
       "    }\n",
       "</style>\n",
       "<table border=\"1\" class=\"dataframe\">\n",
       "  <thead>\n",
       "    <tr style=\"text-align: right;\">\n",
       "      <th></th>\n",
       "      <th>name</th>\n",
       "      <th>BO-eucl-TF-IDF</th>\n",
       "    </tr>\n",
       "  </thead>\n",
       "  <tbody>\n",
       "    <tr>\n",
       "      <td>35817</td>\n",
       "      <td>Barack Obama</td>\n",
       "      <td>0.000000</td>\n",
       "    </tr>\n",
       "    <tr>\n",
       "      <td>38376</td>\n",
       "      <td>Samantha Power</td>\n",
       "      <td>139.364493</td>\n",
       "    </tr>\n",
       "    <tr>\n",
       "      <td>46811</td>\n",
       "      <td>Jeff Sessions</td>\n",
       "      <td>139.757740</td>\n",
       "    </tr>\n",
       "    <tr>\n",
       "      <td>7914</td>\n",
       "      <td>Phil Schiliro</td>\n",
       "      <td>139.812175</td>\n",
       "    </tr>\n",
       "    <tr>\n",
       "      <td>38714</td>\n",
       "      <td>Eric Stern (politician)</td>\n",
       "      <td>140.450064</td>\n",
       "    </tr>\n",
       "    <tr>\n",
       "      <td>6507</td>\n",
       "      <td>Bob Menendez</td>\n",
       "      <td>141.661111</td>\n",
       "    </tr>\n",
       "    <tr>\n",
       "      <td>44681</td>\n",
       "      <td>Jesse Lee (politician)</td>\n",
       "      <td>142.342440</td>\n",
       "    </tr>\n",
       "    <tr>\n",
       "      <td>6796</td>\n",
       "      <td>Eric Holder</td>\n",
       "      <td>142.490179</td>\n",
       "    </tr>\n",
       "    <tr>\n",
       "      <td>38495</td>\n",
       "      <td>Barney Frank</td>\n",
       "      <td>142.581337</td>\n",
       "    </tr>\n",
       "    <tr>\n",
       "      <td>56008</td>\n",
       "      <td>Nathan Cullen</td>\n",
       "      <td>142.751073</td>\n",
       "    </tr>\n",
       "  </tbody>\n",
       "</table>\n",
       "</div>"
      ],
      "text/plain": [
       "                          name  BO-eucl-TF-IDF\n",
       "35817             Barack Obama        0.000000\n",
       "38376           Samantha Power      139.364493\n",
       "46811            Jeff Sessions      139.757740\n",
       "7914             Phil Schiliro      139.812175\n",
       "38714  Eric Stern (politician)      140.450064\n",
       "6507              Bob Menendez      141.661111\n",
       "44681   Jesse Lee (politician)      142.342440\n",
       "6796               Eric Holder      142.490179\n",
       "38495             Barney Frank      142.581337\n",
       "56008            Nathan Cullen      142.751073"
      ]
     },
     "execution_count": 18,
     "metadata": {},
     "output_type": "execute_result"
    }
   ],
   "source": [
    "wiki[['name','BO-eucl-TF-IDF']].sort_values(by='BO-eucl-TF-IDF').head(10)"
   ]
  },
  {
   "cell_type": "markdown",
   "metadata": {},
   "source": [
    "Let's determine whether this list makes sense.\n",
    "* With a notable exception of Nathan Cullen, the other 8 are all American politicians who are contemporaries of Barack Obama.\n",
    "* Phil Schiliro, Jesse Lee, Samantha Power, Eric Stern, Eric Holder worked for Obama.\n",
    "\n",
    "Clearly, the results are more plausible with the use of TF-IDF. Let's take a look at the word vector for Obama and Schilirio's pages. Notice that TF-IDF representation assigns a weight to each word. This weight captures relative importance of that word in the document."
   ]
  },
  {
   "cell_type": "markdown",
   "metadata": {},
   "source": [
    "**b)** Sort the words in Obama's article by their TF-IDF weights; do the same for Schiliro's article as well.\n",
    "Using the **join** operation we learned earlier, compute the common words shared by Obama's and Schiliro's articles.\n",
    "Sort the common words by their TF-IDF weights in Obama's document."
   ]
  },
  {
   "cell_type": "code",
   "execution_count": 19,
   "metadata": {
    "pycharm": {
     "is_executing": false,
     "name": "#%% \n"
    }
   },
   "outputs": [],
   "source": [
    "def top_words_tf_idf(name):\n",
    "    word_counter = pd.DataFrame(TFIDFmatrix[wiki.loc[wiki['name'] == name].index[0]].toarray()[0], index=wiki_labels_tfdf,columns = ['td-idf'])\n",
    "    word_counter = word_counter[word_counter['td-idf'] != 0]\n",
    "    return word_counter"
   ]
  },
  {
   "cell_type": "code",
   "execution_count": 20,
   "metadata": {
    "pycharm": {
     "is_executing": false,
     "name": "#%%\n"
    }
   },
   "outputs": [
    {
     "data": {
      "text/html": [
       "<div>\n",
       "<style scoped>\n",
       "    .dataframe tbody tr th:only-of-type {\n",
       "        vertical-align: middle;\n",
       "    }\n",
       "\n",
       "    .dataframe tbody tr th {\n",
       "        vertical-align: top;\n",
       "    }\n",
       "\n",
       "    .dataframe thead th {\n",
       "        text-align: right;\n",
       "    }\n",
       "</style>\n",
       "<table border=\"1\" class=\"dataframe\">\n",
       "  <thead>\n",
       "    <tr style=\"text-align: right;\">\n",
       "      <th></th>\n",
       "      <th>td-idf</th>\n",
       "    </tr>\n",
       "  </thead>\n",
       "  <tbody>\n",
       "    <tr>\n",
       "      <td>13th</td>\n",
       "      <td>5.953409</td>\n",
       "    </tr>\n",
       "    <tr>\n",
       "      <td>1961</td>\n",
       "      <td>4.320742</td>\n",
       "    </tr>\n",
       "    <tr>\n",
       "      <td>1992</td>\n",
       "      <td>3.278682</td>\n",
       "    </tr>\n",
       "    <tr>\n",
       "      <td>1996</td>\n",
       "      <td>3.135834</td>\n",
       "    </tr>\n",
       "    <tr>\n",
       "      <td>1997</td>\n",
       "      <td>3.129834</td>\n",
       "    </tr>\n",
       "    <tr>\n",
       "      <td>...</td>\n",
       "      <td>...</td>\n",
       "    </tr>\n",
       "    <tr>\n",
       "      <td>with</td>\n",
       "      <td>3.607406</td>\n",
       "    </tr>\n",
       "    <tr>\n",
       "      <td>withdrawal</td>\n",
       "      <td>7.276965</td>\n",
       "    </tr>\n",
       "    <tr>\n",
       "      <td>won</td>\n",
       "      <td>2.383640</td>\n",
       "    </tr>\n",
       "    <tr>\n",
       "      <td>worked</td>\n",
       "      <td>2.553972</td>\n",
       "    </tr>\n",
       "    <tr>\n",
       "      <td>years</td>\n",
       "      <td>2.075288</td>\n",
       "    </tr>\n",
       "  </tbody>\n",
       "</table>\n",
       "<p>273 rows × 1 columns</p>\n",
       "</div>"
      ],
      "text/plain": [
       "              td-idf\n",
       "13th        5.953409\n",
       "1961        4.320742\n",
       "1992        3.278682\n",
       "1996        3.135834\n",
       "1997        3.129834\n",
       "...              ...\n",
       "with        3.607406\n",
       "withdrawal  7.276965\n",
       "won         2.383640\n",
       "worked      2.553972\n",
       "years       2.075288\n",
       "\n",
       "[273 rows x 1 columns]"
      ]
     },
     "execution_count": 20,
     "metadata": {},
     "output_type": "execute_result"
    }
   ],
   "source": [
    "top_words_tf_idf('Barack Obama')"
   ]
  },
  {
   "cell_type": "code",
   "execution_count": 21,
   "metadata": {
    "pycharm": {
     "is_executing": false,
     "name": "#%%\n"
    }
   },
   "outputs": [
    {
     "data": {
      "text/html": [
       "<div>\n",
       "<style scoped>\n",
       "    .dataframe tbody tr th:only-of-type {\n",
       "        vertical-align: middle;\n",
       "    }\n",
       "\n",
       "    .dataframe tbody tr th {\n",
       "        vertical-align: top;\n",
       "    }\n",
       "\n",
       "    .dataframe thead th {\n",
       "        text-align: right;\n",
       "    }\n",
       "</style>\n",
       "<table border=\"1\" class=\"dataframe\">\n",
       "  <thead>\n",
       "    <tr style=\"text-align: right;\">\n",
       "      <th></th>\n",
       "      <th>Obama counts tfdf</th>\n",
       "    </tr>\n",
       "  </thead>\n",
       "  <tbody>\n",
       "    <tr>\n",
       "      <td>obama</td>\n",
       "      <td>52.295653</td>\n",
       "    </tr>\n",
       "    <tr>\n",
       "      <td>the</td>\n",
       "      <td>40.004063</td>\n",
       "    </tr>\n",
       "    <tr>\n",
       "      <td>act</td>\n",
       "      <td>35.678223</td>\n",
       "    </tr>\n",
       "    <tr>\n",
       "      <td>in</td>\n",
       "      <td>30.028962</td>\n",
       "    </tr>\n",
       "    <tr>\n",
       "      <td>iraq</td>\n",
       "      <td>21.747379</td>\n",
       "    </tr>\n",
       "  </tbody>\n",
       "</table>\n",
       "</div>"
      ],
      "text/plain": [
       "       Obama counts tfdf\n",
       "obama          52.295653\n",
       "the            40.004063\n",
       "act            35.678223\n",
       "in             30.028962\n",
       "iraq           21.747379"
      ]
     },
     "execution_count": 21,
     "metadata": {},
     "output_type": "execute_result"
    }
   ],
   "source": [
    "Obama_words_tfdf = top_words_tf_idf('Barack Obama')\n",
    "Obama_words_tfdf.columns = ['Obama counts tfdf']\n",
    "Obama_words_tfdf.sort_values(by='Obama counts tfdf',ascending=False).head(5)"
   ]
  },
  {
   "cell_type": "code",
   "execution_count": 22,
   "metadata": {
    "pycharm": {
     "is_executing": false,
     "name": "#%%\n"
    }
   },
   "outputs": [
    {
     "data": {
      "text/html": [
       "<div>\n",
       "<style scoped>\n",
       "    .dataframe tbody tr th:only-of-type {\n",
       "        vertical-align: middle;\n",
       "    }\n",
       "\n",
       "    .dataframe tbody tr th {\n",
       "        vertical-align: top;\n",
       "    }\n",
       "\n",
       "    .dataframe thead th {\n",
       "        text-align: right;\n",
       "    }\n",
       "</style>\n",
       "<table border=\"1\" class=\"dataframe\">\n",
       "  <thead>\n",
       "    <tr style=\"text-align: right;\">\n",
       "      <th></th>\n",
       "      <th>Schiliro counts tfdf</th>\n",
       "    </tr>\n",
       "  </thead>\n",
       "  <tbody>\n",
       "    <tr>\n",
       "      <td>1980s</td>\n",
       "      <td>3.968858</td>\n",
       "    </tr>\n",
       "    <tr>\n",
       "      <td>1990s</td>\n",
       "      <td>4.110996</td>\n",
       "    </tr>\n",
       "    <tr>\n",
       "      <td>2004</td>\n",
       "      <td>2.690344</td>\n",
       "    </tr>\n",
       "    <tr>\n",
       "      <td>2008</td>\n",
       "      <td>2.509416</td>\n",
       "    </tr>\n",
       "    <tr>\n",
       "      <td>2009</td>\n",
       "      <td>2.564436</td>\n",
       "    </tr>\n",
       "  </tbody>\n",
       "</table>\n",
       "</div>"
      ],
      "text/plain": [
       "       Schiliro counts tfdf\n",
       "1980s              3.968858\n",
       "1990s              4.110996\n",
       "2004               2.690344\n",
       "2008               2.509416\n",
       "2009               2.564436"
      ]
     },
     "execution_count": 22,
     "metadata": {},
     "output_type": "execute_result"
    }
   ],
   "source": [
    "Schiliro_words_tfdf = top_words_tf_idf('Phil Schiliro')\n",
    "Schiliro_words_tfdf.columns = ['Schiliro counts tfdf']\n",
    "Schiliro_words_tfdf.head()"
   ]
  },
  {
   "cell_type": "code",
   "execution_count": 23,
   "metadata": {
    "pycharm": {
     "is_executing": false,
     "name": "#%%\n"
    }
   },
   "outputs": [],
   "source": [
    "common_words_tfdf = Obama_words_tfdf.join(Schiliro_words_tfdf)\n",
    "common_words_tfdf.dropna(inplace=True)"
   ]
  },
  {
   "cell_type": "code",
   "execution_count": 24,
   "metadata": {
    "pycharm": {
     "is_executing": false,
     "name": "#%%\n"
    }
   },
   "outputs": [
    {
     "data": {
      "text/html": [
       "<div>\n",
       "<style scoped>\n",
       "    .dataframe tbody tr th:only-of-type {\n",
       "        vertical-align: middle;\n",
       "    }\n",
       "\n",
       "    .dataframe tbody tr th {\n",
       "        vertical-align: top;\n",
       "    }\n",
       "\n",
       "    .dataframe thead th {\n",
       "        text-align: right;\n",
       "    }\n",
       "</style>\n",
       "<table border=\"1\" class=\"dataframe\">\n",
       "  <thead>\n",
       "    <tr style=\"text-align: right;\">\n",
       "      <th></th>\n",
       "      <th>Obama counts tfdf</th>\n",
       "      <th>Schiliro counts tfdf</th>\n",
       "    </tr>\n",
       "  </thead>\n",
       "  <tbody>\n",
       "    <tr>\n",
       "      <td>2004</td>\n",
       "      <td>8.071033</td>\n",
       "      <td>2.690344</td>\n",
       "    </tr>\n",
       "    <tr>\n",
       "      <td>2008</td>\n",
       "      <td>2.509416</td>\n",
       "      <td>2.509416</td>\n",
       "    </tr>\n",
       "    <tr>\n",
       "      <td>2009</td>\n",
       "      <td>7.693309</td>\n",
       "      <td>2.564436</td>\n",
       "    </tr>\n",
       "    <tr>\n",
       "      <td>2011</td>\n",
       "      <td>8.107041</td>\n",
       "      <td>5.404694</td>\n",
       "    </tr>\n",
       "    <tr>\n",
       "      <td>2013</td>\n",
       "      <td>2.954564</td>\n",
       "      <td>2.954564</td>\n",
       "    </tr>\n",
       "    <tr>\n",
       "      <td>a</td>\n",
       "      <td>7.039334</td>\n",
       "      <td>5.028096</td>\n",
       "    </tr>\n",
       "    <tr>\n",
       "      <td>american</td>\n",
       "      <td>6.382133</td>\n",
       "      <td>2.127378</td>\n",
       "    </tr>\n",
       "    <tr>\n",
       "      <td>and</td>\n",
       "      <td>21.015648</td>\n",
       "      <td>6.004471</td>\n",
       "    </tr>\n",
       "    <tr>\n",
       "      <td>as</td>\n",
       "      <td>6.763017</td>\n",
       "      <td>4.508678</td>\n",
       "    </tr>\n",
       "    <tr>\n",
       "      <td>barack</td>\n",
       "      <td>6.067602</td>\n",
       "      <td>6.067602</td>\n",
       "    </tr>\n",
       "    <tr>\n",
       "      <td>before</td>\n",
       "      <td>2.496782</td>\n",
       "      <td>2.496782</td>\n",
       "    </tr>\n",
       "    <tr>\n",
       "      <td>care</td>\n",
       "      <td>4.916621</td>\n",
       "      <td>4.916621</td>\n",
       "    </tr>\n",
       "    <tr>\n",
       "      <td>democratic</td>\n",
       "      <td>16.410689</td>\n",
       "      <td>8.205344</td>\n",
       "    </tr>\n",
       "    <tr>\n",
       "      <td>down</td>\n",
       "      <td>3.947661</td>\n",
       "      <td>3.947661</td>\n",
       "    </tr>\n",
       "    <tr>\n",
       "      <td>for</td>\n",
       "      <td>4.291450</td>\n",
       "      <td>4.291450</td>\n",
       "    </tr>\n",
       "  </tbody>\n",
       "</table>\n",
       "</div>"
      ],
      "text/plain": [
       "            Obama counts tfdf  Schiliro counts tfdf\n",
       "2004                 8.071033              2.690344\n",
       "2008                 2.509416              2.509416\n",
       "2009                 7.693309              2.564436\n",
       "2011                 8.107041              5.404694\n",
       "2013                 2.954564              2.954564\n",
       "a                    7.039334              5.028096\n",
       "american             6.382133              2.127378\n",
       "and                 21.015648              6.004471\n",
       "as                   6.763017              4.508678\n",
       "barack               6.067602              6.067602\n",
       "before               2.496782              2.496782\n",
       "care                 4.916621              4.916621\n",
       "democratic          16.410689              8.205344\n",
       "down                 3.947661              3.947661\n",
       "for                  4.291450              4.291450"
      ]
     },
     "execution_count": 24,
     "metadata": {},
     "output_type": "execute_result"
    }
   ],
   "source": [
    "common_words_tfdf.head(15)"
   ]
  },
  {
   "cell_type": "code",
   "execution_count": 25,
   "metadata": {
    "pycharm": {
     "is_executing": false,
     "name": "#%%\n"
    }
   },
   "outputs": [],
   "source": [
    "list_of_wanted_list_td_if = common_words_tfdf.sort_values(by='Obama counts tfdf', ascending=False).head(15).index.tolist()"
   ]
  },
  {
   "cell_type": "code",
   "execution_count": 26,
   "metadata": {
    "pycharm": {
     "is_executing": false,
     "name": "#%%\n"
    }
   },
   "outputs": [
    {
     "name": "stdout",
     "output_type": "stream",
     "text": [
      "Phil Schiliro\n",
      "Joe Biden\n",
      "Barack Obama\n",
      "3\n"
     ]
    }
   ],
   "source": [
    "word_to_ind={v: i for i, v in enumerate(vectorizer.get_feature_names())} #\n",
    "\n",
    "def number_of_words_in_article_td_if(name):\n",
    "    article_vectorized = TFIDFmatrix[wiki.loc[wiki['name'] == name].index[0]].toarray()[0]\n",
    "    sum_of_words = 0\n",
    "    for word in list_of_wanted_list_td_if:\n",
    "        index_of_word = word_to_ind[word]\n",
    "        word_count_in_page = article_vectorized[index_of_word]\n",
    "        if word_count_in_page > 0:\n",
    "            sum_of_words = sum_of_words + 1\n",
    "    return sum_of_words\n",
    "\n",
    "number_of_articles = 0\n",
    "for article_name in wiki['name']:\n",
    "    if number_of_words_in_article_td_if(article_name) >= 15:\n",
    "        number_of_articles = number_of_articles + 1\n",
    "        print(article_name)\n",
    "print(number_of_articles)       "
   ]
  },
  {
   "cell_type": "markdown",
   "metadata": {},
   "source": [
    "**c)** Among the words that appear in both Barack Obama and Phil Schiliro, take the 15 that have largest weights in Obama. How many of the articles in the Wikipedia dataset contain all of those 15 words? Which are they?"
   ]
  },
  {
   "cell_type": "markdown",
   "metadata": {},
   "source": [
    "Notice the huge difference in this calculation using TF-IDF scores instead  of raw word counts. We've eliminated noise arising from extremely common words."
   ]
  },
  {
   "cell_type": "markdown",
   "metadata": {},
   "source": [
    "## Ex. 4: Choosing metrics"
   ]
  },
  {
   "cell_type": "markdown",
   "metadata": {},
   "source": [
    "**a)** Compute the Euclidean distance between TF-IDF features of Obama and Biden."
   ]
  },
  {
   "cell_type": "code",
   "execution_count": 27,
   "metadata": {
    "pycharm": {
     "is_executing": false,
     "name": "#%%\n"
    }
   },
   "outputs": [
    {
     "name": "stdout",
     "output_type": "stream",
     "text": [
      "148.7784541307789\n"
     ]
    }
   ],
   "source": [
    "obama_td_if_vector = TFIDFmatrix[wiki.loc[wiki['name'] == \"Barack Obama\"].index[0]]\n",
    "biden_td_if_vector = TFIDFmatrix[wiki.loc[wiki['name'] == \"Joe Biden\"].index[0]]\n",
    "\n",
    "dist = pairwise_distances(obama_td_if_vector, biden_td_if_vector)[0][0]\n",
    "print(dist)"
   ]
  },
  {
   "cell_type": "markdown",
   "metadata": {},
   "source": [
    "The distance is larger than the distances we found for the 10 nearest neighbors, which we repeat here for readability:"
   ]
  },
  {
   "cell_type": "code",
   "execution_count": 28,
   "metadata": {
    "pycharm": {
     "is_executing": false,
     "name": "#%%\n"
    }
   },
   "outputs": [
    {
     "data": {
      "text/html": [
       "<div>\n",
       "<style scoped>\n",
       "    .dataframe tbody tr th:only-of-type {\n",
       "        vertical-align: middle;\n",
       "    }\n",
       "\n",
       "    .dataframe tbody tr th {\n",
       "        vertical-align: top;\n",
       "    }\n",
       "\n",
       "    .dataframe thead th {\n",
       "        text-align: right;\n",
       "    }\n",
       "</style>\n",
       "<table border=\"1\" class=\"dataframe\">\n",
       "  <thead>\n",
       "    <tr style=\"text-align: right;\">\n",
       "      <th></th>\n",
       "      <th>name</th>\n",
       "      <th>BO-eucl-TF-IDF</th>\n",
       "    </tr>\n",
       "  </thead>\n",
       "  <tbody>\n",
       "    <tr>\n",
       "      <td>35817</td>\n",
       "      <td>Barack Obama</td>\n",
       "      <td>0.000000</td>\n",
       "    </tr>\n",
       "    <tr>\n",
       "      <td>38376</td>\n",
       "      <td>Samantha Power</td>\n",
       "      <td>139.364493</td>\n",
       "    </tr>\n",
       "    <tr>\n",
       "      <td>46811</td>\n",
       "      <td>Jeff Sessions</td>\n",
       "      <td>139.757740</td>\n",
       "    </tr>\n",
       "    <tr>\n",
       "      <td>7914</td>\n",
       "      <td>Phil Schiliro</td>\n",
       "      <td>139.812175</td>\n",
       "    </tr>\n",
       "    <tr>\n",
       "      <td>38714</td>\n",
       "      <td>Eric Stern (politician)</td>\n",
       "      <td>140.450064</td>\n",
       "    </tr>\n",
       "    <tr>\n",
       "      <td>6507</td>\n",
       "      <td>Bob Menendez</td>\n",
       "      <td>141.661111</td>\n",
       "    </tr>\n",
       "    <tr>\n",
       "      <td>44681</td>\n",
       "      <td>Jesse Lee (politician)</td>\n",
       "      <td>142.342440</td>\n",
       "    </tr>\n",
       "    <tr>\n",
       "      <td>6796</td>\n",
       "      <td>Eric Holder</td>\n",
       "      <td>142.490179</td>\n",
       "    </tr>\n",
       "    <tr>\n",
       "      <td>38495</td>\n",
       "      <td>Barney Frank</td>\n",
       "      <td>142.581337</td>\n",
       "    </tr>\n",
       "    <tr>\n",
       "      <td>56008</td>\n",
       "      <td>Nathan Cullen</td>\n",
       "      <td>142.751073</td>\n",
       "    </tr>\n",
       "  </tbody>\n",
       "</table>\n",
       "</div>"
      ],
      "text/plain": [
       "                          name  BO-eucl-TF-IDF\n",
       "35817             Barack Obama        0.000000\n",
       "38376           Samantha Power      139.364493\n",
       "46811            Jeff Sessions      139.757740\n",
       "7914             Phil Schiliro      139.812175\n",
       "38714  Eric Stern (politician)      140.450064\n",
       "6507              Bob Menendez      141.661111\n",
       "44681   Jesse Lee (politician)      142.342440\n",
       "6796               Eric Holder      142.490179\n",
       "38495             Barney Frank      142.581337\n",
       "56008            Nathan Cullen      142.751073"
      ]
     },
     "execution_count": 28,
     "metadata": {},
     "output_type": "execute_result"
    }
   ],
   "source": [
    "wiki.sort_values(by='BO-eucl-TF-IDF',ascending=True)[['name','BO-eucl-TF-IDF']][0:10]"
   ]
  },
  {
   "cell_type": "markdown",
   "metadata": {},
   "source": [
    "But one may wonder, is Biden's article that different from Obama's, more so than, say, Schiliro's? It turns out that, when we compute nearest neighbors using the Euclidean distances, we unwittingly favor short articles over long ones."
   ]
  },
  {
   "cell_type": "markdown",
   "metadata": {},
   "source": [
    "**b)** Let us compute the length of each Wikipedia document, and examine the document lengths for the 100 nearest neighbors to Obama's page. To compute text length use the same splitting rules you used in `vectorizer`."
   ]
  },
  {
   "cell_type": "code",
   "execution_count": 29,
   "metadata": {
    "pycharm": {
     "is_executing": false,
     "name": "#%%\n"
    }
   },
   "outputs": [],
   "source": [
    "def compute_length(row):\n",
    "    return len(row.split(' '))\n",
    "\n",
    "wiki['length'] = wiki['text'].apply(compute_length) "
   ]
  },
  {
   "cell_type": "code",
   "execution_count": 30,
   "metadata": {
    "pycharm": {
     "is_executing": false,
     "name": "#%%\n"
    }
   },
   "outputs": [],
   "source": [
    "nearest_neighbors_euclidean = wiki.sort_values(by='BO-eucl-TF-IDF')\n",
    "nearest_neighbors_euclidean = nearest_neighbors_euclidean[:100]"
   ]
  },
  {
   "cell_type": "markdown",
   "metadata": {},
   "source": [
    "**c)** To see how these document lengths compare to the lengths of other documents in the corpus, make a histogram of the document lengths of Obama's 100 nearest neighbors and compare to a histogram of document lengths for all documents."
   ]
  },
  {
   "cell_type": "code",
   "execution_count": 31,
   "metadata": {
    "pycharm": {
     "is_executing": false,
     "name": "#%%\n"
    }
   },
   "outputs": [
    {
     "name": "stderr",
     "output_type": "stream",
     "text": [
      "C:\\Anaconda3\\lib\\site-packages\\ipykernel_launcher.py:3: MatplotlibDeprecationWarning: \n",
      "The 'normed' kwarg was deprecated in Matplotlib 2.1 and will be removed in 3.1. Use 'density' instead.\n",
      "  This is separate from the ipykernel package so we can avoid doing imports until\n",
      "C:\\Anaconda3\\lib\\site-packages\\ipykernel_launcher.py:6: MatplotlibDeprecationWarning: \n",
      "The 'normed' kwarg was deprecated in Matplotlib 2.1 and will be removed in 3.1. Use 'density' instead.\n",
      "  \n"
     ]
    },
    {
     "data": {
      "image/png": "[encoded data removed]",
      "text/plain": [
       "<Figure size 756x324 with 1 Axes>"
      ]
     },
     "metadata": {
      "needs_background": "light"
     },
     "output_type": "display_data"
    }
   ],
   "source": [
    "plt.figure(figsize = (10.5, 4.5))\n",
    "plt.hist(wiki['length'], 50, histtype = 'stepfilled', \n",
    "         normed = True, label = 'Entire Wikipedia', alpha = 0.5)\n",
    "\n",
    "plt.hist(nearest_neighbors_euclidean['length'], 50, histtype = 'stepfilled', \n",
    "         normed = True, label = '100 NNs of Obama (euclidian)', alpha = 0.8)\n",
    "\n",
    "plt.axvline(wiki.loc[wiki['name'] == 'Barack Obama', 'length'].values, \n",
    "            color = 'g', linestyle = '--', linewidth = 4,\n",
    "            label = 'Length of Barack Obama')\n",
    "\n",
    "plt.axvline(wiki.loc[wiki['name'] == 'Joe Biden', 'length'].values, \n",
    "            color = 'black', linestyle = '--', linewidth = 4,\n",
    "            label = 'Length of Joe Biden')\n",
    "\n",
    "plt.axis([0, 1500, 0, 0.04])\n",
    "plt.legend(loc = 'best', prop = {'size': 15})\n",
    "plt.title('Distribution of document length')\n",
    "plt.xlabel('# of words')\n",
    "plt.ylabel('Percentage')\n",
    "plt.tight_layout()"
   ]
  },
  {
   "cell_type": "markdown",
   "metadata": {},
   "source": [
    "Relative to the rest of Wikipedia, nearest neighbors of Obama are overwhemingly short, most of them being shorter than 300 words. The bias towards short articles is not appropriate in this application as there is really no reason to  favor short articles over long articles (they are all Wikipedia articles, after all). Many of the Wikipedia articles are 300 words or more, and both Obama and Biden are over 300 words long.\n",
    "\n",
    "**Note**: For the interest of computation time, the dataset given here contains _excerpts_ of the articles rather than full text. For instance, the actual Wikipedia article about Obama is around 25000 words. Do not be surprised by the low numbers shown in the histogram."
   ]
  },
  {
   "cell_type": "markdown",
   "metadata": {},
   "source": [
    "**Note:** Both word-count features and TF-IDF are proportional to word frequencies. While TF-IDF penalizes very common words, longer articles tend to have longer TF-IDF vectors simply because they have more words in them."
   ]
  },
  {
   "cell_type": "markdown",
   "metadata": {},
   "source": [
    "To remove this bias, we turn to **cosine distances**:\n",
    "$$\n",
    "d(\\mathbf{x},\\mathbf{y}) = 1 - \\frac{\\mathbf{x}^T\\mathbf{y}}{\\|\\mathbf{x}\\| \\|\\mathbf{y}\\|}\n",
    "$$\n",
    "Cosine distances let us compare word distributions of two articles of varying lengths."
   ]
  },
  {
   "cell_type": "markdown",
   "metadata": {},
   "source": [
    "**d)** Train a new nearest neighbor model, this time with cosine distances.  Then repeat the search for Obama's 100 nearest neighbors and make a plot to better visualize the effect of having used cosine distance in place of Euclidean on our TF-IDF vectors."
   ]
  },
  {
   "cell_type": "code",
   "execution_count": 32,
   "metadata": {
    "pycharm": {
     "is_executing": false,
     "name": "#%%\n"
    }
   },
   "outputs": [
    {
     "data": {
      "text/html": [
       "<div>\n",
       "<style scoped>\n",
       "    .dataframe tbody tr th:only-of-type {\n",
       "        vertical-align: middle;\n",
       "    }\n",
       "\n",
       "    .dataframe tbody tr th {\n",
       "        vertical-align: top;\n",
       "    }\n",
       "\n",
       "    .dataframe thead th {\n",
       "        text-align: right;\n",
       "    }\n",
       "</style>\n",
       "<table border=\"1\" class=\"dataframe\">\n",
       "  <thead>\n",
       "    <tr style=\"text-align: right;\">\n",
       "      <th></th>\n",
       "      <th>name</th>\n",
       "      <th>length</th>\n",
       "      <th>BO-cos-TF-IDF</th>\n",
       "    </tr>\n",
       "  </thead>\n",
       "  <tbody>\n",
       "    <tr>\n",
       "      <td>35817</td>\n",
       "      <td>Barack Obama</td>\n",
       "      <td>540</td>\n",
       "      <td>0.000000</td>\n",
       "    </tr>\n",
       "    <tr>\n",
       "      <td>24478</td>\n",
       "      <td>Joe Biden</td>\n",
       "      <td>414</td>\n",
       "      <td>0.572725</td>\n",
       "    </tr>\n",
       "    <tr>\n",
       "      <td>57108</td>\n",
       "      <td>Hillary Rodham Clinton</td>\n",
       "      <td>580</td>\n",
       "      <td>0.616149</td>\n",
       "    </tr>\n",
       "    <tr>\n",
       "      <td>38376</td>\n",
       "      <td>Samantha Power</td>\n",
       "      <td>310</td>\n",
       "      <td>0.625797</td>\n",
       "    </tr>\n",
       "    <tr>\n",
       "      <td>38714</td>\n",
       "      <td>Eric Stern (politician)</td>\n",
       "      <td>255</td>\n",
       "      <td>0.651475</td>\n",
       "    </tr>\n",
       "    <tr>\n",
       "      <td>...</td>\n",
       "      <td>...</td>\n",
       "      <td>...</td>\n",
       "      <td>...</td>\n",
       "    </tr>\n",
       "    <tr>\n",
       "      <td>2045</td>\n",
       "      <td>Allan Ryan (attorney)</td>\n",
       "      <td>291</td>\n",
       "      <td>0.731376</td>\n",
       "    </tr>\n",
       "    <tr>\n",
       "      <td>47085</td>\n",
       "      <td>Ray Thornton</td>\n",
       "      <td>326</td>\n",
       "      <td>0.731908</td>\n",
       "    </tr>\n",
       "    <tr>\n",
       "      <td>16392</td>\n",
       "      <td>P%C3%A9ter Kov%C3%A1cs (lawyer)</td>\n",
       "      <td>365</td>\n",
       "      <td>0.732172</td>\n",
       "    </tr>\n",
       "    <tr>\n",
       "      <td>55495</td>\n",
       "      <td>Lokman Singh Karki</td>\n",
       "      <td>2486</td>\n",
       "      <td>0.732608</td>\n",
       "    </tr>\n",
       "    <tr>\n",
       "      <td>22304</td>\n",
       "      <td>Chung Dong-young</td>\n",
       "      <td>886</td>\n",
       "      <td>0.732785</td>\n",
       "    </tr>\n",
       "  </tbody>\n",
       "</table>\n",
       "<p>100 rows × 3 columns</p>\n",
       "</div>"
      ],
      "text/plain": [
       "                                  name  length  BO-cos-TF-IDF\n",
       "35817                     Barack Obama     540       0.000000\n",
       "24478                        Joe Biden     414       0.572725\n",
       "57108           Hillary Rodham Clinton     580       0.616149\n",
       "38376                   Samantha Power     310       0.625797\n",
       "38714          Eric Stern (politician)     255       0.651475\n",
       "...                                ...     ...            ...\n",
       "2045             Allan Ryan (attorney)     291       0.731376\n",
       "47085                     Ray Thornton     326       0.731908\n",
       "16392  P%C3%A9ter Kov%C3%A1cs (lawyer)     365       0.732172\n",
       "55495               Lokman Singh Karki    2486       0.732608\n",
       "22304                 Chung Dong-young     886       0.732785\n",
       "\n",
       "[100 rows x 3 columns]"
      ]
     },
     "execution_count": 32,
     "metadata": {},
     "output_type": "execute_result"
    }
   ],
   "source": [
    "from sklearn.metrics.pairwise import cosine_distances, paired_distances\n",
    "\n",
    "wiki['BO-cos-TF-IDF'] = cosine_distances(TFIDFmatrix, TFIDFmatrix[BarackObamaPageIndex])\n",
    "nearest_neighbors_cosine = wiki.sort_values(by='BO-cos-TF-IDF', ascending=True)[['name','length', 'BO-cos-TF-IDF']][:100]\n",
    "nearest_neighbors_cosine"
   ]
  },
  {
   "cell_type": "markdown",
   "metadata": {},
   "source": [
    "From a glance at the above table, things look better.  For example, we now see Joe Biden as Barack Obama's nearest neighbor!  We also see Hillary Clinton on the list.  This list looks even more plausible as nearest neighbors of Barack Obama."
   ]
  },
  {
   "cell_type": "code",
   "execution_count": 33,
   "metadata": {
    "pycharm": {
     "is_executing": false,
     "name": "#%%\n"
    }
   },
   "outputs": [
    {
     "name": "stderr",
     "output_type": "stream",
     "text": [
      "C:\\Anaconda3\\lib\\site-packages\\ipykernel_launcher.py:3: MatplotlibDeprecationWarning: \n",
      "The 'normed' kwarg was deprecated in Matplotlib 2.1 and will be removed in 3.1. Use 'density' instead.\n",
      "  This is separate from the ipykernel package so we can avoid doing imports until\n",
      "C:\\Anaconda3\\lib\\site-packages\\ipykernel_launcher.py:6: MatplotlibDeprecationWarning: \n",
      "The 'normed' kwarg was deprecated in Matplotlib 2.1 and will be removed in 3.1. Use 'density' instead.\n",
      "  \n",
      "C:\\Anaconda3\\lib\\site-packages\\ipykernel_launcher.py:9: MatplotlibDeprecationWarning: \n",
      "The 'normed' kwarg was deprecated in Matplotlib 2.1 and will be removed in 3.1. Use 'density' instead.\n",
      "  if __name__ == '__main__':\n"
     ]
    },
    {
     "data": {
      "image/png": "[encoded data removed]",
      "text/plain": [
       "<Figure size 756x324 with 1 Axes>"
      ]
     },
     "metadata": {
      "needs_background": "light"
     },
     "output_type": "display_data"
    }
   ],
   "source": [
    "plt.figure(figsize = (10.5, 4.5))\n",
    "plt.hist(wiki['length'], 50, histtype = 'stepfilled', color = 'red',\n",
    "         normed = True, label = 'Entire Wikipedia', alpha = 0.5)\n",
    "\n",
    "plt.hist(nearest_neighbors_euclidean['length'], 50, histtype = 'stepfilled', color='red',\n",
    "         normed = True, label = '100 NNs of Obama (euclidian)', alpha = 0.8)\n",
    "\n",
    "plt.hist(nearest_neighbors_cosine['length'], 50, histtype = 'stepfilled', \n",
    "         normed = True, label = '100 NNs of Obama (cosine)', alpha = 0.8)\n",
    "\n",
    "plt.axvline(wiki.loc[wiki['name'] == 'Barack Obama', 'length'].values, \n",
    "            color = 'black', linestyle = '--', linewidth = 4,\n",
    "            label = 'Length of Barack Obama')\n",
    "\n",
    "plt.axvline(wiki.loc[wiki['name'] == 'Joe Biden', 'length'].values, \n",
    "            color = 'green', linestyle = '--', linewidth = 4,\n",
    "            label = 'Length of Joe Biden')\n",
    "\n",
    "plt.axis([0, 1500, 0, 0.04])\n",
    "plt.legend(loc = 'best', prop = {'size': 15})\n",
    "plt.title('Distribution of document length')\n",
    "plt.xlabel('# of words')\n",
    "plt.ylabel('Percentage')\n",
    "plt.tight_layout()"
   ]
  },
  {
   "cell_type": "markdown",
   "metadata": {},
   "source": [
    "Indeed, the 100 nearest neighbors using cosine distance provide a sampling across the range of document lengths, rather than just short articles like Euclidean distance provided."
   ]
  },
  {
   "cell_type": "markdown",
   "metadata": {},
   "source": [
    "**Moral of the story**: In deciding the features and distance measures, check if they produce results that make sense for your particular application."
   ]
  },
  {
   "cell_type": "markdown",
   "metadata": {},
   "source": [
    "## Ex. 5: Problem with cosine distances: tweets vs. long articles"
   ]
  },
  {
   "cell_type": "markdown",
   "metadata": {},
   "source": [
    "Happily ever after? Not so fast. Cosine distances ignore all document lengths, which may be great in certain situations but not in others. For instance, consider the following (admittedly contrived) example."
   ]
  },
  {
   "cell_type": "markdown",
   "metadata": {},
   "source": [
    "```\n",
    "+--------------------------------------------------------+\n",
    "|                                             +--------+ |\n",
    "|  One that shall not be named                | Follow | |\n",
    "|  @username                                  +--------+ |\n",
    "|                                                        |\n",
    "|  Democratic governments control law in response to     |\n",
    "|  popular act.                                          |\n",
    "|                                                        |\n",
    "|  8:05 AM - 16 May 2016                                 |\n",
    "|                                                        |\n",
    "|  Reply   Retweet (1,332)   Like (300)                  |\n",
    "|                                                        |\n",
    "+--------------------------------------------------------+\n",
    "```"
   ]
  },
  {
   "cell_type": "markdown",
   "metadata": {},
   "source": [
    "**a)** Transform the tweet into TF-IDF features, using the fit to the Wikipedia dataset. (That is, let's treat this tweet as an article in our Wikipedia dataset and see what happens.) How similar is this tweet to Barack Obama's Wikipedia article? "
   ]
  },
  {
   "cell_type": "code",
   "execution_count": 34,
   "metadata": {
    "pycharm": {
     "is_executing": false,
     "name": "#%%\n"
    }
   },
   "outputs": [],
   "source": [
    "df = pd.DataFrame({'text': ['democratic governments control law in response to popular act']})"
   ]
  },
  {
   "cell_type": "code",
   "execution_count": 63,
   "metadata": {
    "pycharm": {
     "is_executing": false,
     "name": "#%%\n"
    }
   },
   "outputs": [
    {
     "data": {
      "text/plain": [
       "0.6986645349790674"
      ]
     },
     "execution_count": 63,
     "metadata": {},
     "output_type": "execute_result"
    }
   ],
   "source": [
    "tweet_vect = vectorizer.transform(['democratic governments control law in response to popular act'])\n",
    "tweet_tf_if_trans = tfidf.transform(tweet_vect)\n",
    "cosine_distances(tweet_tf_if_trans, TFIDFmatrix[BarackObamaPageIndex])[0][0]"
   ]
  },
  {
   "cell_type": "code",
   "execution_count": 74,
   "metadata": {
    "pycharm": {
     "is_executing": false,
     "name": "#%%\n"
    }
   },
   "outputs": [
    {
     "data": {
      "text/html": [
       "<div>\n",
       "<style scoped>\n",
       "    .dataframe tbody tr th:only-of-type {\n",
       "        vertical-align: middle;\n",
       "    }\n",
       "\n",
       "    .dataframe tbody tr th {\n",
       "        vertical-align: top;\n",
       "    }\n",
       "\n",
       "    .dataframe thead th {\n",
       "        text-align: right;\n",
       "    }\n",
       "</style>\n",
       "<table border=\"1\" class=\"dataframe\">\n",
       "  <thead>\n",
       "    <tr style=\"text-align: right;\">\n",
       "      <th></th>\n",
       "      <th>word</th>\n",
       "      <th>word_count</th>\n",
       "      <th>weights</th>\n",
       "    </tr>\n",
       "  </thead>\n",
       "  <tbody>\n",
       "    <tr>\n",
       "      <td>417836</td>\n",
       "      <td>response</td>\n",
       "      <td>1</td>\n",
       "      <td>5.261462</td>\n",
       "    </tr>\n",
       "    <tr>\n",
       "      <td>221573</td>\n",
       "      <td>governments</td>\n",
       "      <td>1</td>\n",
       "      <td>5.167571</td>\n",
       "    </tr>\n",
       "    <tr>\n",
       "      <td>138596</td>\n",
       "      <td>control</td>\n",
       "      <td>1</td>\n",
       "      <td>4.721765</td>\n",
       "    </tr>\n",
       "    <tr>\n",
       "      <td>45084</td>\n",
       "      <td>act</td>\n",
       "      <td>1</td>\n",
       "      <td>4.459778</td>\n",
       "    </tr>\n",
       "    <tr>\n",
       "      <td>155950</td>\n",
       "      <td>democratic</td>\n",
       "      <td>1</td>\n",
       "      <td>4.102672</td>\n",
       "    </tr>\n",
       "    <tr>\n",
       "      <td>...</td>\n",
       "      <td>...</td>\n",
       "      <td>...</td>\n",
       "      <td>...</td>\n",
       "    </tr>\n",
       "    <tr>\n",
       "      <td>182817</td>\n",
       "      <td>equational</td>\n",
       "      <td>0</td>\n",
       "      <td>0.000000</td>\n",
       "    </tr>\n",
       "    <tr>\n",
       "      <td>182816</td>\n",
       "      <td>equation</td>\n",
       "      <td>0</td>\n",
       "      <td>0.000000</td>\n",
       "    </tr>\n",
       "    <tr>\n",
       "      <td>182815</td>\n",
       "      <td>equating</td>\n",
       "      <td>0</td>\n",
       "      <td>0.000000</td>\n",
       "    </tr>\n",
       "    <tr>\n",
       "      <td>182814</td>\n",
       "      <td>equates</td>\n",
       "      <td>0</td>\n",
       "      <td>0.000000</td>\n",
       "    </tr>\n",
       "    <tr>\n",
       "      <td>548464</td>\n",
       "      <td>zzts</td>\n",
       "      <td>0</td>\n",
       "      <td>0.000000</td>\n",
       "    </tr>\n",
       "  </tbody>\n",
       "</table>\n",
       "<p>548465 rows × 3 columns</p>\n",
       "</div>"
      ],
      "text/plain": [
       "               word  word_count   weights\n",
       "417836     response           1  5.261462\n",
       "221573  governments           1  5.167571\n",
       "138596      control           1  4.721765\n",
       "45084           act           1  4.459778\n",
       "155950   democratic           1  4.102672\n",
       "...             ...         ...       ...\n",
       "182817   equational           0  0.000000\n",
       "182816     equation           0  0.000000\n",
       "182815     equating           0  0.000000\n",
       "182814      equates           0  0.000000\n",
       "548464         zzts           0  0.000000\n",
       "\n",
       "[548465 rows x 3 columns]"
      ]
     },
     "execution_count": 74,
     "metadata": {},
     "output_type": "execute_result"
    }
   ],
   "source": [
    "df2 = pd.DataFrame({\"word\":wiki_labels_tfdf,'word_count':tweet_vect.toarray()[0],'weights': tweet_tf_if_trans.toarray()[0]})\n",
    "df2.sort_values(by='weights',ascending=False)\n"
   ]
  },
  {
   "cell_type": "markdown",
   "metadata": {},
   "source": [
    "Let's compare this tweet's TF-IDF vectors  to Barack Obama's Wikipedia entry."
   ]
  },
  {
   "cell_type": "code",
   "execution_count": 75,
   "metadata": {
    "pycharm": {
     "is_executing": false,
     "name": "#%%\n"
    }
   },
   "outputs": [
    {
     "data": {
      "text/html": [
       "<div>\n",
       "<style scoped>\n",
       "    .dataframe tbody tr th:only-of-type {\n",
       "        vertical-align: middle;\n",
       "    }\n",
       "\n",
       "    .dataframe tbody tr th {\n",
       "        vertical-align: top;\n",
       "    }\n",
       "\n",
       "    .dataframe thead th {\n",
       "        text-align: right;\n",
       "    }\n",
       "</style>\n",
       "<table border=\"1\" class=\"dataframe\">\n",
       "  <thead>\n",
       "    <tr style=\"text-align: right;\">\n",
       "      <th></th>\n",
       "      <th>Obama counts tfdf</th>\n",
       "    </tr>\n",
       "  </thead>\n",
       "  <tbody>\n",
       "    <tr>\n",
       "      <td>obama</td>\n",
       "      <td>52.295653</td>\n",
       "    </tr>\n",
       "    <tr>\n",
       "      <td>the</td>\n",
       "      <td>40.004063</td>\n",
       "    </tr>\n",
       "    <tr>\n",
       "      <td>act</td>\n",
       "      <td>35.678223</td>\n",
       "    </tr>\n",
       "    <tr>\n",
       "      <td>in</td>\n",
       "      <td>30.028962</td>\n",
       "    </tr>\n",
       "    <tr>\n",
       "      <td>iraq</td>\n",
       "      <td>21.747379</td>\n",
       "    </tr>\n",
       "    <tr>\n",
       "      <td>...</td>\n",
       "      <td>...</td>\n",
       "    </tr>\n",
       "    <tr>\n",
       "      <td>is</td>\n",
       "      <td>2.055233</td>\n",
       "    </tr>\n",
       "    <tr>\n",
       "      <td>new</td>\n",
       "      <td>1.887235</td>\n",
       "    </tr>\n",
       "    <tr>\n",
       "      <td>which</td>\n",
       "      <td>1.767431</td>\n",
       "    </tr>\n",
       "    <tr>\n",
       "      <td>that</td>\n",
       "      <td>1.661407</td>\n",
       "    </tr>\n",
       "    <tr>\n",
       "      <td>by</td>\n",
       "      <td>1.374553</td>\n",
       "    </tr>\n",
       "  </tbody>\n",
       "</table>\n",
       "<p>273 rows × 1 columns</p>\n",
       "</div>"
      ],
      "text/plain": [
       "       Obama counts tfdf\n",
       "obama          52.295653\n",
       "the            40.004063\n",
       "act            35.678223\n",
       "in             30.028962\n",
       "iraq           21.747379\n",
       "...                  ...\n",
       "is              2.055233\n",
       "new             1.887235\n",
       "which           1.767431\n",
       "that            1.661407\n",
       "by              1.374553\n",
       "\n",
       "[273 rows x 1 columns]"
      ]
     },
     "execution_count": 75,
     "metadata": {},
     "output_type": "execute_result"
    }
   ],
   "source": [
    "Obama_words_tfdf.sort_values(by='Obama counts tfdf',ascending=False)"
   ]
  },
  {
   "cell_type": "markdown",
   "metadata": {},
   "source": [
    "**b)** Now, compute the cosine distance between the Barack Obama article and this tweet:"
   ]
  },
  {
   "cell_type": "code",
   "execution_count": 77,
   "metadata": {
    "jupyter": {
     "outputs_hidden": false
    },
    "pycharm": {
     "is_executing": false
    }
   },
   "outputs": [
    {
     "data": {
      "text/plain": [
       "array([[0.69866453]])"
      ]
     },
     "execution_count": 77,
     "metadata": {},
     "output_type": "execute_result"
    }
   ],
   "source": [
    "from sklearn.metrics.pairwise import cosine_distances # for one pair of samples we can just use this function\n",
    "\n",
    "# Your code goes here\n",
    "cosine_distances(tweet_tf_if_trans, TFIDFmatrix[BarackObamaPageIndex])"
   ]
  },
  {
   "cell_type": "markdown",
   "metadata": {},
   "source": [
    "Let's compare this distance to the distance between the Barack Obama article and all of its Wikipedia nearest neighbors:"
   ]
  },
  {
   "cell_type": "code",
   "execution_count": 79,
   "metadata": {
    "jupyter": {
     "outputs_hidden": false
    },
    "pycharm": {
     "is_executing": false
    }
   },
   "outputs": [
    {
     "data": {
      "text/html": [
       "<div>\n",
       "<style scoped>\n",
       "    .dataframe tbody tr th:only-of-type {\n",
       "        vertical-align: middle;\n",
       "    }\n",
       "\n",
       "    .dataframe tbody tr th {\n",
       "        vertical-align: top;\n",
       "    }\n",
       "\n",
       "    .dataframe thead th {\n",
       "        text-align: right;\n",
       "    }\n",
       "</style>\n",
       "<table border=\"1\" class=\"dataframe\">\n",
       "  <thead>\n",
       "    <tr style=\"text-align: right;\">\n",
       "      <th></th>\n",
       "      <th>name</th>\n",
       "      <th>length</th>\n",
       "      <th>BO-cos-TF-IDF</th>\n",
       "    </tr>\n",
       "  </thead>\n",
       "  <tbody>\n",
       "    <tr>\n",
       "      <td>35817</td>\n",
       "      <td>Barack Obama</td>\n",
       "      <td>540</td>\n",
       "      <td>0.000000</td>\n",
       "    </tr>\n",
       "    <tr>\n",
       "      <td>24478</td>\n",
       "      <td>Joe Biden</td>\n",
       "      <td>414</td>\n",
       "      <td>0.572725</td>\n",
       "    </tr>\n",
       "    <tr>\n",
       "      <td>57108</td>\n",
       "      <td>Hillary Rodham Clinton</td>\n",
       "      <td>580</td>\n",
       "      <td>0.616149</td>\n",
       "    </tr>\n",
       "    <tr>\n",
       "      <td>38376</td>\n",
       "      <td>Samantha Power</td>\n",
       "      <td>310</td>\n",
       "      <td>0.625797</td>\n",
       "    </tr>\n",
       "    <tr>\n",
       "      <td>38714</td>\n",
       "      <td>Eric Stern (politician)</td>\n",
       "      <td>255</td>\n",
       "      <td>0.651475</td>\n",
       "    </tr>\n",
       "    <tr>\n",
       "      <td>28447</td>\n",
       "      <td>George W. Bush</td>\n",
       "      <td>505</td>\n",
       "      <td>0.659478</td>\n",
       "    </tr>\n",
       "    <tr>\n",
       "      <td>39357</td>\n",
       "      <td>John McCain</td>\n",
       "      <td>410</td>\n",
       "      <td>0.661645</td>\n",
       "    </tr>\n",
       "    <tr>\n",
       "      <td>48693</td>\n",
       "      <td>Artur Davis</td>\n",
       "      <td>371</td>\n",
       "      <td>0.666690</td>\n",
       "    </tr>\n",
       "    <tr>\n",
       "      <td>18827</td>\n",
       "      <td>Henry Waxman</td>\n",
       "      <td>279</td>\n",
       "      <td>0.671226</td>\n",
       "    </tr>\n",
       "    <tr>\n",
       "      <td>37199</td>\n",
       "      <td>Barry Sullivan (lawyer)</td>\n",
       "      <td>893</td>\n",
       "      <td>0.673300</td>\n",
       "    </tr>\n",
       "    <tr>\n",
       "      <td>46811</td>\n",
       "      <td>Jeff Sessions</td>\n",
       "      <td>230</td>\n",
       "      <td>0.673581</td>\n",
       "    </tr>\n",
       "    <tr>\n",
       "      <td>36452</td>\n",
       "      <td>Bill Clinton</td>\n",
       "      <td>524</td>\n",
       "      <td>0.675260</td>\n",
       "    </tr>\n",
       "    <tr>\n",
       "      <td>6796</td>\n",
       "      <td>Eric Holder</td>\n",
       "      <td>232</td>\n",
       "      <td>0.677451</td>\n",
       "    </tr>\n",
       "    <tr>\n",
       "      <td>24848</td>\n",
       "      <td>John C. Eastman</td>\n",
       "      <td>366</td>\n",
       "      <td>0.679724</td>\n",
       "    </tr>\n",
       "    <tr>\n",
       "      <td>36425</td>\n",
       "      <td>Edward B. Montgomery</td>\n",
       "      <td>331</td>\n",
       "      <td>0.681387</td>\n",
       "    </tr>\n",
       "    <tr>\n",
       "      <td>14754</td>\n",
       "      <td>Mitt Romney</td>\n",
       "      <td>502</td>\n",
       "      <td>0.681761</td>\n",
       "    </tr>\n",
       "    <tr>\n",
       "      <td>35357</td>\n",
       "      <td>Lawrence Summers</td>\n",
       "      <td>413</td>\n",
       "      <td>0.687272</td>\n",
       "    </tr>\n",
       "    <tr>\n",
       "      <td>47303</td>\n",
       "      <td>John Kerry</td>\n",
       "      <td>410</td>\n",
       "      <td>0.692701</td>\n",
       "    </tr>\n",
       "    <tr>\n",
       "      <td>34344</td>\n",
       "      <td>Mary Dawson (civil servant)</td>\n",
       "      <td>434</td>\n",
       "      <td>0.696581</td>\n",
       "    </tr>\n",
       "    <tr>\n",
       "      <td>55181</td>\n",
       "      <td>Ron Paul</td>\n",
       "      <td>427</td>\n",
       "      <td>0.696642</td>\n",
       "    </tr>\n",
       "    <tr>\n",
       "      <td>4565</td>\n",
       "      <td>Robinson O. Everett</td>\n",
       "      <td>764</td>\n",
       "      <td>0.698133</td>\n",
       "    </tr>\n",
       "    <tr>\n",
       "      <td>46140</td>\n",
       "      <td>Robert Gibbs</td>\n",
       "      <td>257</td>\n",
       "      <td>0.698549</td>\n",
       "    </tr>\n",
       "    <tr>\n",
       "      <td>52859</td>\n",
       "      <td>Ann Lewis</td>\n",
       "      <td>634</td>\n",
       "      <td>0.698799</td>\n",
       "    </tr>\n",
       "  </tbody>\n",
       "</table>\n",
       "</div>"
      ],
      "text/plain": [
       "                              name  length  BO-cos-TF-IDF\n",
       "35817                 Barack Obama     540       0.000000\n",
       "24478                    Joe Biden     414       0.572725\n",
       "57108       Hillary Rodham Clinton     580       0.616149\n",
       "38376               Samantha Power     310       0.625797\n",
       "38714      Eric Stern (politician)     255       0.651475\n",
       "28447               George W. Bush     505       0.659478\n",
       "39357                  John McCain     410       0.661645\n",
       "48693                  Artur Davis     371       0.666690\n",
       "18827                 Henry Waxman     279       0.671226\n",
       "37199      Barry Sullivan (lawyer)     893       0.673300\n",
       "46811                Jeff Sessions     230       0.673581\n",
       "36452                 Bill Clinton     524       0.675260\n",
       "6796                   Eric Holder     232       0.677451\n",
       "24848              John C. Eastman     366       0.679724\n",
       "36425         Edward B. Montgomery     331       0.681387\n",
       "14754                  Mitt Romney     502       0.681761\n",
       "35357             Lawrence Summers     413       0.687272\n",
       "47303                   John Kerry     410       0.692701\n",
       "34344  Mary Dawson (civil servant)     434       0.696581\n",
       "55181                     Ron Paul     427       0.696642\n",
       "4565           Robinson O. Everett     764       0.698133\n",
       "46140                 Robert Gibbs     257       0.698549\n",
       "52859                    Ann Lewis     634       0.698799"
      ]
     },
     "execution_count": 79,
     "metadata": {},
     "output_type": "execute_result"
    }
   ],
   "source": [
    "nearest_neighbors_cosine[0:23]"
   ]
  },
  {
   "cell_type": "markdown",
   "metadata": {},
   "source": [
    "With cosine distances, the tweet is \"nearer\" to Barack Obama than most people! If someone is reading the Barack Obama Wikipedia page, would you want to recommend they read this tweet?\n",
    "In practice, it is common to enforce maximum or minimum document lengths. After all, when someone is reading a long article from _The Atlantic_, you wouldn't recommend him/her a tweet."
   ]
  }
 ],
 "metadata": {
  "anaconda-cloud": {},
  "kernelspec": {
   "display_name": "Python 3",
   "language": "python",
   "name": "python3"
  },
  "language_info": {
   "codemirror_mode": {
    "name": "ipython",
    "version": 3
   },
   "file_extension": ".py",
   "mimetype": "text/x-python",
   "name": "python",
   "nbconvert_exporter": "python",
   "pygments_lexer": "ipython3",
   "version": "3.6.9"
  },
  "pycharm": {
   "stem_cell": {
    "cell_type": "raw",
    "source": [],
    "metadata": {
     "collapsed": false
    }
   }
  }
 },
 "nbformat": 4,
 "nbformat_minor": 4
}